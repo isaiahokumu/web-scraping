#create variable for news url
news_url = "https://cnn.com"

#requests
response = requests.get(news_url)
soup = BeautifulSoup(response.text, "html.parser")

#Looking for headlines
headlines = soup.find_all('h2')
for headline in headlines:
    print(headline.text)

#Looking for summaries
summaries = soup.find_all('p')
for summary in summaries:
    print(summary.text)

